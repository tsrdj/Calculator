{
 "cells": [
  {
   "cell_type": "code",
   "execution_count": null,
   "id": "51cfe0b7-384c-40b1-b660-c4419fb9211c",
   "metadata": {},
   "outputs": [
    {
     "name": "stdout",
     "output_type": "stream",
     "text": [
      "\n",
      "Simple Calculator Menu:\n",
      "1. Addition\n",
      "2. Subtraction\n",
      "3. Multiplication\n",
      "4. Division\n",
      "5. Print History\n",
      "6. Quit\n"
     ]
    },
    {
     "name": "stdin",
     "output_type": "stream",
     "text": [
      "Choose an operation (1/2/3/4/5/6):  11+55\n"
     ]
    },
    {
     "name": "stdout",
     "output_type": "stream",
     "text": [
      "Invalid choice. Please choose a valid operation.\n",
      "\n",
      "Simple Calculator Menu:\n",
      "1. Addition\n",
      "2. Subtraction\n",
      "3. Multiplication\n",
      "4. Division\n",
      "5. Print History\n",
      "6. Quit\n"
     ]
    },
    {
     "name": "stdin",
     "output_type": "stream",
     "text": [
      "Choose an operation (1/2/3/4/5/6):  1\n",
      "Enter first number:  55\n",
      "Enter second number:  66\n"
     ]
    },
    {
     "name": "stdout",
     "output_type": "stream",
     "text": [
      "Result: 121.0\n",
      "\n",
      "Simple Calculator Menu:\n",
      "1. Addition\n",
      "2. Subtraction\n",
      "3. Multiplication\n",
      "4. Division\n",
      "5. Print History\n",
      "6. Quit\n"
     ]
    }
   ],
   "source": [
    "class Calculator:\n",
    "    def __init__(self):\n",
    "        self.history = []\n",
    "\n",
    "    def add(self, num1, num2):\n",
    "        \"\"\"Add two numbers.\"\"\"\n",
    "        result = num1 + num2\n",
    "        self.history.append(f\"Added {num1} and {num2}, result = {result}\")\n",
    "        return result\n",
    "\n",
    "    def subtract(self, num1, num2):\n",
    "        \"\"\"Subtract the second number from the first.\"\"\"\n",
    "        result = num1 - num2\n",
    "        self.history.append(f\"Subtracted {num2} from {num1}, result = {result}\")\n",
    "        return result\n",
    "\n",
    "    def multiply(self, num1, num2):\n",
    "        \"\"\"Multiply two numbers.\"\"\"\n",
    "        result = num1 * num2\n",
    "        self.history.append(f\"Multiplied {num1} and {num2}, result = {result}\")\n",
    "        return result\n",
    "\n",
    "    def divide(self, num1, num2):\n",
    "        \"\"\"Divide the first number by the second, handling division by zero.\"\"\"\n",
    "        if num2 == 0:\n",
    "            self.history.append(\"Error: Division by zero attempted.\")\n",
    "            return \"Error: Division by zero is not allowed.\"\n",
    "        result = num1 / num2\n",
    "        self.history.append(f\"Divided {num1} by {num2}, result = {result}\")\n",
    "        return result\n",
    "\n",
    "    def print_history(self):\n",
    "        \"\"\"Print the calculator's operation history.\"\"\"\n",
    "        print(\"\\nCalculator History:\")\n",
    "        for entry in self.history:\n",
    "            print(entry)\n",
    "\n",
    "\n",
    "def main():\n",
    "    calculator = Calculator()\n",
    "    \n",
    "    while True:\n",
    "        print(\"\\nSimple Calculator Menu:\")\n",
    "        print(\"1. Addition\")\n",
    "        print(\"2. Subtraction\")\n",
    "        print(\"3. Multiplication\")\n",
    "        print(\"4. Division\")\n",
    "        print(\"5. Print History\")\n",
    "        print(\"6. Quit\")\n",
    "        \n",
    "        choice = input(\"Choose an operation (1/2/3/4/5/6): \")\n",
    "        \n",
    "        if choice in ('1', '2', '3', '4'):\n",
    "            try:\n",
    "                num1 = float(input(\"Enter first number: \"))\n",
    "                num2 = float(input(\"Enter second number: \"))\n",
    "            except ValueError:\n",
    "                print(\"That's not a valid number. Try again with a number.\")\n",
    "                continue\n",
    "        elif choice == '5':\n",
    "            calculator.print_history()\n",
    "            continue\n",
    "        elif choice == '6':\n",
    "            print(\"Goodbye!\")\n",
    "            break\n",
    "        else:\n",
    "            print(\"Invalid choice. Please choose a valid operation.\")\n",
    "            continue\n",
    "\n",
    "        if choice == '1':\n",
    "            print(f\"Result: {calculator.add(num1, num2)}\")\n",
    "        elif choice == '2':\n",
    "            print(f\"Result: {calculator.subtract(num1, num2)}\")\n",
    "        elif choice == '3':\n",
    "            print(f\"Result: {calculator.multiply(num1, num2)}\")\n",
    "        elif choice == '4':\n",
    "            print(f\"Result: {calculator.divide(num1, num2)}\")\n",
    "\n",
    "\n",
    "if __name__ == \"__main__\":\n",
    "    main()"
   ]
  },
  {
   "cell_type": "code",
   "execution_count": null,
   "id": "d887638f-97bd-4e34-845e-08a282734ee5",
   "metadata": {},
   "outputs": [],
   "source": []
  },
  {
   "cell_type": "code",
   "execution_count": null,
   "id": "7716bf9b-a8d4-4108-b122-a3466b160da3",
   "metadata": {},
   "outputs": [],
   "source": []
  }
 ],
 "metadata": {
  "kernelspec": {
   "display_name": "Python 3 (ipykernel)",
   "language": "python",
   "name": "python3"
  },
  "language_info": {
   "codemirror_mode": {
    "name": "ipython",
    "version": 3
   },
   "file_extension": ".py",
   "mimetype": "text/x-python",
   "name": "python",
   "nbconvert_exporter": "python",
   "pygments_lexer": "ipython3",
   "version": "3.12.4"
  }
 },
 "nbformat": 4,
 "nbformat_minor": 5
}
